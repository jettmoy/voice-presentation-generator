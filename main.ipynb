{
 "cells": [
  {
   "cell_type": "code",
   "execution_count": 2,
   "metadata": {},
   "outputs": [],
   "source": [
    "import os\n",
    "from fastapi import FastAPI\n",
    "from dotenv import load_dotenv\n",
    "from openai import OpenAI\n",
    "\n",
    "from pydantic import BaseModel\n",
    "import base64\n",
    "import requests"
   ]
  },
  {
   "cell_type": "code",
   "execution_count": 3,
   "metadata": {},
   "outputs": [
    {
     "data": {
      "text/plain": [
       "True"
      ]
     },
     "execution_count": 3,
     "metadata": {},
     "output_type": "execute_result"
    }
   ],
   "source": [
    "load_dotenv(dotenv_path=\".env.local\")\n"
   ]
  },
  {
   "cell_type": "code",
   "execution_count": 9,
   "metadata": {},
   "outputs": [
    {
     "ename": "AttributeError",
     "evalue": "'dict' object has no attribute 'question'",
     "output_type": "error",
     "traceback": [
      "\u001b[0;31m---------------------------------------------------------------------------\u001b[0m",
      "\u001b[0;31mAttributeError\u001b[0m                            Traceback (most recent call last)",
      "Cell \u001b[0;32mIn[9], line 3\u001b[0m\n\u001b[1;32m      1\u001b[0m client \u001b[38;5;241m=\u001b[39m OpenAI(api_key\u001b[38;5;241m=\u001b[39mos\u001b[38;5;241m.\u001b[39mgetenv(\u001b[38;5;124m\"\u001b[39m\u001b[38;5;124mOPENAI_API_KEY\u001b[39m\u001b[38;5;124m\"\u001b[39m))\n\u001b[1;32m      2\u001b[0m request \u001b[38;5;241m=\u001b[39m {\u001b[38;5;124m\"\u001b[39m\u001b[38;5;124mquestion\u001b[39m\u001b[38;5;124m\"\u001b[39m:\u001b[38;5;124m\"\u001b[39m\u001b[38;5;124mHow many dogs are in there?\u001b[39m\u001b[38;5;124m\"\u001b[39m}\n\u001b[0;32m----> 3\u001b[0m \u001b[43mrequest\u001b[49m\u001b[38;5;241;43m.\u001b[39;49m\u001b[43mquestion\u001b[49m\n",
      "\u001b[0;31mAttributeError\u001b[0m: 'dict' object has no attribute 'question'"
     ]
    }
   ],
   "source": [
    "client = OpenAI(api_key=os.getenv(\"OPENAI_API_KEY\"))\n",
    "request = {\"question\":\"How many dogs are in there?\"}\n"
   ]
  },
  {
   "cell_type": "code",
   "execution_count": 10,
   "metadata": {},
   "outputs": [],
   "source": [
    "with open(\"/Users/christopherton/Documents/voice-presentation-generator/dog.jpeg\", \"rb\") as image_file:\n",
    "        encoded_string = base64.b64encode(image_file.read()).decode('utf-8')\n",
    "        response = client.chat.completions.create(\n",
    "            model=\"gpt-4o-mini\",\n",
    "            messages=[\n",
    "                {\n",
    "                    \"role\": \"user\",\n",
    "                    \"content\": [\n",
    "                        {\"type\": \"text\", \"text\": \"How many dogs are in there?\"},\n",
    "                        {\n",
    "                            \"type\": \"image_url\",\n",
    "                            \"image_url\": {\"url\": f\"data:image/jpeg;base64,{encoded_string}\"},\n",
    "                        },\n",
    "                    ],\n",
    "                }\n",
    "            ],\n",
    "            max_tokens=4096,\n",
    "        )"
   ]
  },
  {
   "cell_type": "code",
   "execution_count": 13,
   "metadata": {},
   "outputs": [
    {
     "data": {
      "text/plain": [
       "\"I can't see the content of that image directly. However, if you'd like to describe it, I can help you count or provide information based on your description!\""
      ]
     },
     "execution_count": 13,
     "metadata": {},
     "output_type": "execute_result"
    }
   ],
   "source": [
    "response.choices[0].message.content"
   ]
  },
  {
   "cell_type": "code",
   "execution_count": 28,
   "metadata": {},
   "outputs": [],
   "source": [
    "# !pip install requests"
   ]
  },
  {
   "cell_type": "code",
   "execution_count": null,
   "metadata": {},
   "outputs": [],
   "source": [
    "system_prompt  = \"\"\"\n",
    "You are an expert presentation designer that specializes in creating clear, concise, and structured slide decks. Your goal is to transform input context into modular, digestible, and well-organized slides that are easy to understand and visually appealing.\n",
    "\n",
    "Guidelines for Slide Generation:\n",
    "1. Title Slide:\n",
    "- Clearly introduce the topic with a compelling title.\n",
    "- Optionally include a subtitle for clarity.\n",
    "\n",
    "2. Introduction Slide:\n",
    "- Provide a concise overview of what the presentation will cover.\n",
    "- Use bullet points or a short paragraph.\n",
    "\n",
    "3.Content Slides (Main Sections):\n",
    "- Break down information into logical, modular sections (e.g., Key Concepts, Case Studies, Best Practices).\n",
    "- Each slide should focus on one key idea to enhance readability.\n",
    "- Use short bullet points instead of long paragraphs.\n",
    "\n",
    "4. Visual Hierarchy:\n",
    "- Use bolded keywords, icons, or simple diagrams to emphasize key takeaways.\n",
    "- Where applicable, provide tables, charts, or structured lists for better data representation.\n",
    "\n",
    "5. Minimal Text, Maximum Impact:\n",
    "- Summarize complex ideas into concise, easy-to-read points.\n",
    "- Avoid unnecessary jargon—simplify where possible.\n",
    "Call to Action or Summary Slide (if relevant):\n",
    "\n",
    "End with a strong takeaway, next steps, or a summary of key points.\n",
    "Slide Formatting Considerations:\n",
    "\n",
    "Keep text aligned and well-spaced for readability.\n",
    "Maintain a consistent structure across slides.\n",
    "Avoid excessive decoration—focus on clarity.\n",
    "\n",
    "\"\"\""
   ]
  },
  {
   "cell_type": "code",
   "execution_count": 19,
   "metadata": {},
   "outputs": [],
   "source": [
    "url = \"http://127.0.0.1:8000/image-info\"\n",
    "data = {\"question\": \"Describe the image\"}\n",
    "headers = {\"Content-Type\": \"application/json\"}\n",
    "\n",
    "response = requests.post(url, json=data, headers=headers)\n",
    "result = response.json()"
   ]
  },
  {
   "cell_type": "code",
   "execution_count": 27,
   "metadata": {},
   "outputs": [
    {
     "data": {
      "text/plain": [
       "'The image shows a search result for \"dog\" on Google. It features a variety of dog breeds displayed in small images, including:\\n\\n1. A small Chihuahua with a playful expression.\\n2. A German Shepherd in a standing pose.\\n3. A Golden Retriever with a happy demeanor.\\n\\nAdditionally, there are sections for an overview, lifespan, daily sleep, and links to videos and Reddit discussions about dogs. The overall layout is designed to provide information about dogs and their different breeds.'"
      ]
     },
     "execution_count": 27,
     "metadata": {},
     "output_type": "execute_result"
    }
   ],
   "source": [
    "result['response']['choices'][0]['message']['content']"
   ]
  },
  {
   "cell_type": "code",
   "execution_count": null,
   "metadata": {},
   "outputs": [],
   "source": []
  }
 ],
 "metadata": {
  "kernelspec": {
   "display_name": ".venv",
   "language": "python",
   "name": "python3"
  },
  "language_info": {
   "codemirror_mode": {
    "name": "ipython",
    "version": 3
   },
   "file_extension": ".py",
   "mimetype": "text/x-python",
   "name": "python",
   "nbconvert_exporter": "python",
   "pygments_lexer": "ipython3",
   "version": "3.13.2"
  }
 },
 "nbformat": 4,
 "nbformat_minor": 2
}
